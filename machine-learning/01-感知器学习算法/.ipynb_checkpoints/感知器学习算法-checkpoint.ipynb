{
 "cells": [
  {
   "cell_type": "markdown",
   "metadata": {},
   "source": [
    "使用 Python 实现 PLA："
   ]
  },
  {
   "cell_type": "code",
   "execution_count": 12,
   "metadata": {
    "ExecuteTime": {
     "end_time": "2024-09-28T15:18:33.004475Z",
     "start_time": "2024-09-28T15:18:32.997228Z"
    }
   },
   "outputs": [],
   "source": [
    "import numpy as np\n",
    "def pla(X, y):\n",
    "    \"\"\"\n",
    "    感知器学习算法实现\n",
    "    注意只能处理线性可分的数据集，输入线性不可分函数无法停止\n",
    "    args:\n",
    "        X - 训练数据集\n",
    "        y - 目标标签值\n",
    "    return:\n",
    "        W - 权重系数\n",
    "    \"\"\"\n",
    "    done = False\n",
    "    # 初始化权重系数\n",
    "    W = np.zeros(X.shape[1])\n",
    "    # 循环\n",
    "    while(done == False):\n",
    "        done = True\n",
    "        # 遍历训练数据集\n",
    "        for index in range(len(X)):\n",
    "            x = X[index]\n",
    "            # 判定是否与目标值不符\n",
    "            if x.dot(W) * y[index] <= 0:\n",
    "                done = False\n",
    "                # 修正权重系数\n",
    "                W = W + y[index] * x\n",
    "    return W"
   ]
  },
  {
   "cell_type": "code",
   "execution_count": 13,
   "metadata": {
    "ExecuteTime": {
     "end_time": "2024-09-28T15:18:33.054253Z",
     "start_time": "2024-09-28T15:18:33.046096Z"
    }
   },
   "outputs": [],
   "source": [
    "import numpy as np\n",
    "import matplotlib.pyplot as plt\n",
    "\n",
    "def createTrainDatas(W, start, end, size = 10):\n",
    "    \"\"\"\n",
    "    创建线性可分的训练数据集\n",
    "    args:\n",
    "        W - 目标权重系数\n",
    "        start - 最小值\n",
    "        end - 最大值\n",
    "        size - 训练数据集大小\n",
    "    return:\n",
    "        X - 训练集特征值\n",
    "        y - 训练集目标值\n",
    "    \"\"\"\n",
    "    np.random.seed(42)\n",
    "    '''\n",
    "    随机生成 size个样本实数在范围 [start,end)\n",
    "    size输出样本数目，为int或元组(tuple)类型，例如，size=(m,n,k), 则输出m*n*k个样本，缺省时输出1个 实数\n",
    "    '''\n",
    "    X = np.random.uniform(start, end, (size, W.shape[0]))\n",
    "    y = np.sign(X.dot(W))\n",
    "    return X, y\n",
    "\n",
    "def buildLine(W, start, end, size = 100):\n",
    "    \"\"\"\n",
    "    构建一条指定的二维直线\n",
    "    args:\n",
    "        W - 权重系数\n",
    "        start - 最小值\n",
    "        end - 最大值\n",
    "        size - 组成线的点的数量\n",
    "    return:\n",
    "        x0, - \n",
    "    \"\"\"\n",
    "    x0 = np.linspace(start, end, size)\n",
    "    if W[1] == 0:\n",
    "        x1 = np.zeros(100)\n",
    "    else:\n",
    "        x1 = -W[0] * x0 / W[1]\n",
    "    return x0, x1"
   ]
  },
  {
   "cell_type": "markdown",
   "metadata": {},
   "source": [
    "创建线性可分的训练数据集："
   ]
  },
  {
   "cell_type": "code",
   "execution_count": 14,
   "metadata": {
    "ExecuteTime": {
     "end_time": "2024-09-28T15:18:33.073834Z",
     "start_time": "2024-09-28T15:18:33.062231Z"
    }
   },
   "outputs": [
    {
     "name": "stdout",
     "output_type": "stream",
     "text": [
      "[[-2.50919762  9.01428613]\n",
      " [ 4.63987884  1.97316968]\n",
      " [-6.87962719 -6.88010959]\n",
      " [-8.83832776  7.32352292]\n",
      " [ 2.02230023  4.16145156]\n",
      " [-9.58831011  9.39819704]\n",
      " [ 6.64885282 -5.75321779]\n",
      " [-6.36350066 -6.3319098 ]\n",
      " [-3.91515514  0.49512863]\n",
      " [-1.36109963 -4.1754172 ]] [ 1.  1. -1. -1.  1. -1.  1. -1. -1. -1.]\n"
     ]
    }
   ],
   "source": [
    "import numpy as np\n",
    "# 坐标轴起始点\n",
    "start = -10\n",
    "# 坐标轴结束点\n",
    "end = 10\n",
    "# 目标权重系数\n",
    "W = np.array([5, 4])\n",
    "# 创建线性可分的训练数据集\n",
    "X, y = createTrainDatas(W, start, end)\n",
    "print(X,y)"
   ]
  },
  {
   "cell_type": "markdown",
   "metadata": {},
   "source": [
    "计算权重系数："
   ]
  },
  {
   "cell_type": "code",
   "execution_count": 15,
   "metadata": {
    "ExecuteTime": {
     "end_time": "2024-09-28T15:18:33.146356Z",
     "start_time": "2024-09-28T15:18:33.103670Z"
    }
   },
   "outputs": [
    {
     "data": {
      "text/plain": [
       "array([16.47819278, 14.08657577])"
      ]
     },
     "execution_count": 15,
     "metadata": {},
     "output_type": "execute_result"
    }
   ],
   "source": [
    "W = pla(X, y)\n",
    "W"
   ]
  },
  {
   "cell_type": "markdown",
   "metadata": {},
   "source": [
    "可视化："
   ]
  },
  {
   "cell_type": "code",
   "execution_count": 40,
   "metadata": {
    "ExecuteTime": {
     "end_time": "2024-09-28T15:18:33.638101Z",
     "start_time": "2024-09-28T15:18:33.158331Z"
    },
    "scrolled": true
   },
   "outputs": [
    {
     "data": {
      "image/png": "[encoded data removed]",
      "text/plain": [
       "<Figure size 640x480 with 1 Axes>"
      ]
     },
     "metadata": {},
     "output_type": "display_data"
    }
   ],
   "source": [
    "import matplotlib.pyplot as plt\n",
    "\n",
    "plt.rcParams['font.sans-serif'] = ['Arial']  # 选择一个本地的支持中文的字体 仿宋\n",
    "\n",
    "x1 = X[y>0][:, 0]\n",
    "y1 = X[y>0][:, 1]\n",
    "x2 = X[y<0][:, 0]\n",
    "y2 = X[y<0][:, 1]\n",
    "plt.title('PLA')\n",
    "\"\"\"\n",
    "使用matplotlib库 pyplot绘制散点图,以x1,y1坐标为散点图中点, c=b为蓝色 'r'(为红色 \n",
    "marker)='o' 表示散点形状\n",
    "s=20 表示散点的大小 面积大小\n",
    "\"\"\"\n",
    "p1 = plt.scatter(x1, y1, c='b', marker='o', s=20)\n",
    "p2 = plt.scatter(x2, y2, c='r', marker='o', s=20)\n",
    "x3, y3 = buildLine(W, start, end)\n",
    "plt.plot(x3, y3)\n",
    "plt.legend([p1, p2], [\"正1\", \"负1\"], loc=\"upper right\")\n",
    "plt.show()"
   ]
  },
  {
   "cell_type": "markdown",
   "metadata": {},
   "source": [
    "scikit-learn 实现："
   ]
  },
  {
   "cell_type": "code",
   "execution_count": 32,
   "metadata": {
    "ExecuteTime": {
     "end_time": "2024-09-28T15:18:48.289941Z",
     "start_time": "2024-09-28T15:18:33.642095Z"
    }
   },
   "outputs": [
    {
     "data": {
      "text/plain": [
       "array([6.36350066, 6.3319098 ])"
      ]
     },
     "execution_count": 32,
     "metadata": {},
     "output_type": "execute_result"
    }
   ],
   "source": [
    "from sklearn.linear_model import Perceptron\n",
    "\n",
    "# 初始化感知器\n",
    "clf = Perceptron(fit_intercept=False)\n",
    "# 拟合训练集\n",
    "clf.fit(X, y)\n",
    "# 权重系数\n",
    "W = clf.coef_[0]\n",
    "W"
   ]
  },
  {
   "cell_type": "markdown",
   "metadata": {},
   "source": [
    "可视化："
   ]
  },
  {
   "cell_type": "code",
   "execution_count": 35,
   "metadata": {
    "ExecuteTime": {
     "end_time": "2024-09-28T15:18:48.292936Z",
     "start_time": "2024-09-28T15:18:48.291944Z"
    }
   },
   "outputs": [
    {
     "name": "stderr",
     "output_type": "stream",
     "text": [
      "findfont: Generic family 'sans-serif' not found because none of the following families were found: PingFang HK\n",
      "findfont: Generic family 'sans-serif' not found because none of the following families were found: PingFang HK\n",
      "findfont: Generic family 'sans-serif' not found because none of the following families were found: PingFang HK\n",
      "findfont: Generic family 'sans-serif' not found because none of the following families were found: PingFang HK\n",
      "findfont: Generic family 'sans-serif' not found because none of the following families were found: PingFang HK\n",
      "findfont: Generic family 'sans-serif' not found because none of the following families were found: PingFang HK\n",
      "findfont: Generic family 'sans-serif' not found because none of the following families were found: PingFang HK\n",
      "findfont: Generic family 'sans-serif' not found because none of the following families were found: PingFang HK\n",
      "findfont: Generic family 'sans-serif' not found because none of the following families were found: PingFang HK\n",
      "findfont: Generic family 'sans-serif' not found because none of the following families were found: PingFang HK\n",
      "findfont: Generic family 'sans-serif' not found because none of the following families were found: PingFang HK\n",
      "findfont: Generic family 'sans-serif' not found because none of the following families were found: PingFang HK\n",
      "findfont: Generic family 'sans-serif' not found because none of the following families were found: PingFang HK\n",
      "findfont: Generic family 'sans-serif' not found because none of the following families were found: PingFang HK\n",
      "F:\\anaconda3\\Lib\\site-packages\\IPython\\core\\pylabtools.py:170: UserWarning: Glyph 27491 (\\N{CJK UNIFIED IDEOGRAPH-6B63}) missing from current font.\n",
      "  fig.canvas.print_figure(bytes_io, **kw)\n",
      "findfont: Generic family 'sans-serif' not found because none of the following families were found: PingFang HK\n",
      "findfont: Generic family 'sans-serif' not found because none of the following families were found: PingFang HK\n",
      "F:\\anaconda3\\Lib\\site-packages\\IPython\\core\\pylabtools.py:170: UserWarning: Glyph 36127 (\\N{CJK UNIFIED IDEOGRAPH-8D1F}) missing from current font.\n",
      "  fig.canvas.print_figure(bytes_io, **kw)\n",
      "findfont: Generic family 'sans-serif' not found because none of the following families were found: PingFang HK\n",
      "findfont: Generic family 'sans-serif' not found because none of the following families were found: PingFang HK\n",
      "findfont: Generic family 'sans-serif' not found because none of the following families were found: PingFang HK\n",
      "findfont: Generic family 'sans-serif' not found because none of the following families were found: PingFang HK\n",
      "findfont: Generic family 'sans-serif' not found because none of the following families were found: PingFang HK\n",
      "findfont: Generic family 'sans-serif' not found because none of the following families were found: PingFang HK\n",
      "findfont: Generic family 'sans-serif' not found because none of the following families were found: PingFang HK\n",
      "findfont: Generic family 'sans-serif' not found because none of the following families were found: PingFang HK\n",
      "findfont: Generic family 'sans-serif' not found because none of the following families were found: PingFang HK\n",
      "findfont: Generic family 'sans-serif' not found because none of the following families were found: PingFang HK\n",
      "findfont: Generic family 'sans-serif' not found because none of the following families were found: PingFang HK\n",
      "findfont: Generic family 'sans-serif' not found because none of the following families were found: PingFang HK\n",
      "findfont: Generic family 'sans-serif' not found because none of the following families were found: PingFang HK\n",
      "findfont: Generic family 'sans-serif' not found because none of the following families were found: PingFang HK\n",
      "findfont: Generic family 'sans-serif' not found because none of the following families were found: PingFang HK\n",
      "findfont: Generic family 'sans-serif' not found because none of the following families were found: PingFang HK\n",
      "findfont: Generic family 'sans-serif' not found because none of the following families were found: PingFang HK\n",
      "findfont: Generic family 'sans-serif' not found because none of the following families were found: PingFang HK\n",
      "findfont: Generic family 'sans-serif' not found because none of the following families were found: PingFang HK\n",
      "findfont: Generic family 'sans-serif' not found because none of the following families were found: PingFang HK\n",
      "findfont: Generic family 'sans-serif' not found because none of the following families were found: PingFang HK\n",
      "findfont: Generic family 'sans-serif' not found because none of the following families were found: PingFang HK\n",
      "findfont: Generic family 'sans-serif' not found because none of the following families were found: PingFang HK\n",
      "findfont: Generic family 'sans-serif' not found because none of the following families were found: PingFang HK\n",
      "findfont: Generic family 'sans-serif' not found because none of the following families were found: PingFang HK\n",
      "findfont: Generic family 'sans-serif' not found because none of the following families were found: PingFang HK\n",
      "findfont: Generic family 'sans-serif' not found because none of the following families were found: PingFang HK\n",
      "findfont: Generic family 'sans-serif' not found because none of the following families were found: PingFang HK\n",
      "findfont: Generic family 'sans-serif' not found because none of the following families were found: PingFang HK\n",
      "findfont: Generic family 'sans-serif' not found because none of the following families were found: PingFang HK\n",
      "findfont: Generic family 'sans-serif' not found because none of the following families were found: PingFang HK\n",
      "findfont: Generic family 'sans-serif' not found because none of the following families were found: PingFang HK\n",
      "findfont: Generic family 'sans-serif' not found because none of the following families were found: PingFang HK\n",
      "findfont: Generic family 'sans-serif' not found because none of the following families were found: PingFang HK\n",
      "findfont: Generic family 'sans-serif' not found because none of the following families were found: PingFang HK\n",
      "findfont: Generic family 'sans-serif' not found because none of the following families were found: PingFang HK\n",
      "findfont: Generic family 'sans-serif' not found because none of the following families were found: PingFang HK\n",
      "findfont: Generic family 'sans-serif' not found because none of the following families were found: PingFang HK\n",
      "findfont: Generic family 'sans-serif' not found because none of the following families were found: PingFang HK\n",
      "findfont: Generic family 'sans-serif' not found because none of the following families were found: PingFang HK\n",
      "findfont: Generic family 'sans-serif' not found because none of the following families were found: PingFang HK\n",
      "findfont: Generic family 'sans-serif' not found because none of the following families were found: PingFang HK\n",
      "findfont: Generic family 'sans-serif' not found because none of the following families were found: PingFang HK\n",
      "findfont: Generic family 'sans-serif' not found because none of the following families were found: PingFang HK\n",
      "findfont: Generic family 'sans-serif' not found because none of the following families were found: PingFang HK\n",
      "findfont: Generic family 'sans-serif' not found because none of the following families were found: PingFang HK\n",
      "findfont: Generic family 'sans-serif' not found because none of the following families were found: PingFang HK\n",
      "findfont: Generic family 'sans-serif' not found because none of the following families were found: PingFang HK\n",
      "findfont: Generic family 'sans-serif' not found because none of the following families were found: PingFang HK\n",
      "findfont: Generic family 'sans-serif' not found because none of the following families were found: PingFang HK\n",
      "findfont: Generic family 'sans-serif' not found because none of the following families were found: PingFang HK\n",
      "findfont: Generic family 'sans-serif' not found because none of the following families were found: PingFang HK\n",
      "findfont: Generic family 'sans-serif' not found because none of the following families were found: PingFang HK\n",
      "findfont: Generic family 'sans-serif' not found because none of the following families were found: PingFang HK\n",
      "findfont: Generic family 'sans-serif' not found because none of the following families were found: PingFang HK\n",
      "findfont: Generic family 'sans-serif' not found because none of the following families were found: PingFang HK\n",
      "findfont: Generic family 'sans-serif' not found because none of the following families were found: PingFang HK\n",
      "findfont: Generic family 'sans-serif' not found because none of the following families were found: PingFang HK\n",
      "findfont: Generic family 'sans-serif' not found because none of the following families were found: PingFang HK\n"
     ]
    },
    {
     "data": {
      "image/png": "[encoded data removed]",
      "text/plain": [
       "<Figure size 640x480 with 1 Axes>"
      ]
     },
     "metadata": {},
     "output_type": "display_data"
    }
   ],
   "source": [
    "import matplotlib.pyplot as plt\n",
    "\n",
    "plt.rcParams['font.sans-serif'] = ['Arial']  # 选择一个本地的支持中文的字体\n",
    "\n",
    "x1 = X[y>0][:, 0]\n",
    "y1 = X[y>0][:, 1]\n",
    "x2 = X[y<0][:, 0]\n",
    "y2 = X[y<0][:, 1]\n",
    "plt.title('PLA')\n",
    "p1 = plt.scatter(x1, y1, c='b', marker='o', s=20)\n",
    "p2 = plt.scatter(x2, y2, c='r', marker='o', s=20)\n",
    "x3, y3 = buildLine(W, start, end)\n",
    "plt.plot(x3, y3)\n",
    "plt.legend([p1, p2], [\"正1\", \"负1\"], loc=\"upper right\")\n",
    "plt.show()"
   ]
  },
  {
   "cell_type": "markdown",
   "metadata": {},
   "source": [
    "感知器学习算法演示："
   ]
  },
  {
   "cell_type": "code",
   "execution_count": null,
   "metadata": {},
   "outputs": [],
   "source": [
    "import numpy as np\n",
    "\n",
    "def plaReturn(X, y):\n",
    "    \"\"\"\n",
    "    感知器学习算法实现\n",
    "    注意只能处理线性可分的数据集，输入线性不可分函数无法停止\n",
    "    args:\n",
    "        X - 训练数据集\n",
    "        y - 目标标签值\n",
    "    return:\n",
    "        Ws - 权重系数数组\n",
    "        errors - 错误数据下标数组\n",
    "    \"\"\"\n",
    "    done = False\n",
    "    # 初始化权重系数\n",
    "    W = np.zeros(X.shape[1])\n",
    "    Ws = np.array([W])\n",
    "    errors = []\n",
    "    # 循环\n",
    "    while(done == False):\n",
    "        done = True\n",
    "        # 遍历训练数据集\n",
    "        for index in range(len(X)):\n",
    "            x = X[index]\n",
    "            # 判定是否与目标值不符\n",
    "            if x.dot(W) * y[index] <= 0:\n",
    "                done = False\n",
    "                # 修正权重系数\n",
    "                W = W + y[index] * x\n",
    "                Ws = np.insert(Ws, len(Ws), values=W, axis=0)\n",
    "                errors.append(index)\n",
    "    return Ws, errors"
   ]
  },
  {
   "cell_type": "markdown",
   "metadata": {},
   "source": [
    "简单数据集："
   ]
  },
  {
   "cell_type": "code",
   "execution_count": null,
   "metadata": {},
   "outputs": [],
   "source": [
    "import numpy as np\n",
    "import matplotlib.pyplot as plt\n",
    "import matplotlib.animation as animation\n",
    "\n",
    "plt.rcParams['font.sans-serif'] = ['PingFang HK']  # 选择一个本地的支持中文的字体\n",
    "\n",
    "%matplotlib notebook\n",
    "\n",
    "start = -10\n",
    "end = 10\n",
    "W = np.array([5, 4])\n",
    "X, y = createTrainDatas(W, start, end)\n",
    "x1 = X[y>0][:, 0]\n",
    "y1 = X[y>0][:, 1]\n",
    "x2 = X[y<0][:, 0]\n",
    "y2 = X[y<0][:, 1]\n",
    "\n",
    "Ws, errors = plaReturn(X, y)\n",
    "fig = plt.figure()\n",
    "plt.title('PLA')\n",
    "plt.scatter(x1, y1, c='b', marker='o', s=20)\n",
    "plt.scatter(x2, y2, c='r', marker='o', s=20)\n",
    "line, = plt.plot(0, 0, markersize=0, label='W')\n",
    "error, = plt.plot(0, 0, c='k', marker='x', markersize=0)\n",
    "\n",
    "def update(i):\n",
    "    x3, y3 = buildLine(Ws[i], start, end)\n",
    "    line.set_data(x3, y3)\n",
    "    line.set_label(\"第%d次更新W\"%(i + 1))\n",
    "    if i < len(errors) :\n",
    "        error.set_markersize(14)\n",
    "        error.set_data(X[errors[i]][0], X[errors[i]][1])\n",
    "    else:\n",
    "        error.set_markersize(0)\n",
    "        error.set_data(0, 0)\n",
    "    plt.legend(loc=\"upper right\")\n",
    "    return line, error,\n",
    "\n",
    "ani = animation.FuncAnimation(fig, update, range(0, len(Ws)), interval=1000, blit=True, repeat=False)\n",
    "ani.save('pla_simple.gif')\n",
    "plt.legend(loc=\"upper right\")\n",
    "plt.show()"
   ]
  },
  {
   "cell_type": "markdown",
   "metadata": {},
   "source": [
    "复杂数据集："
   ]
  },
  {
   "cell_type": "code",
   "execution_count": null,
   "metadata": {},
   "outputs": [],
   "source": [
    "import numpy as np\n",
    "import matplotlib.pyplot as plt\n",
    "import matplotlib.animation as animation\n",
    "\n",
    "%matplotlib notebook\n",
    "\n",
    "start = -10\n",
    "end = 10\n",
    "W = np.array([5, 4])\n",
    "X, y = createTrainDatas(W, start, end, size=200)\n",
    "x1 = X[y>0][:, 0]\n",
    "y1 = X[y>0][:, 1]\n",
    "x2 = X[y<0][:, 0]\n",
    "y2 = X[y<0][:, 1]\n",
    "\n",
    "Ws, errors = plaReturn(X, y)\n",
    "fig = plt.figure()\n",
    "plt.title('PLA')\n",
    "p1 = plt.scatter(x1, y1, c='b', marker='o', s=20)\n",
    "p2 = plt.scatter(x2, y2, c='r', marker='o', s=20)\n",
    "line, = plt.plot(0, 0, markersize=0, label='W')\n",
    "error, = plt.plot(0, 0, c='k', marker='x', markersize=0)\n",
    "\n",
    "ani = animation.FuncAnimation(fig, update, range(0, len(Ws)), interval=1000, blit=True, repeat=False)\n",
    "ani.save('pla.gif')\n",
    "plt.legend(loc=\"upper right\")\n",
    "plt.show()"
   ]
  }
 ],
 "metadata": {
  "kernelspec": {
   "display_name": "Python 3 (ipykernel)",
   "language": "python",
   "name": "python3"
  },
  "language_info": {
   "codemirror_mode": {
    "name": "ipython",
    "version": 3
   },
   "file_extension": ".py",
   "mimetype": "text/x-python",
   "name": "python",
   "nbconvert_exporter": "python",
   "pygments_lexer": "ipython3",
   "version": "3.12.4"
  }
 },
 "nbformat": 4,
 "nbformat_minor": 4
}
