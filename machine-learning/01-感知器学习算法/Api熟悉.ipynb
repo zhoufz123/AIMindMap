{
 "cells": [
  {
   "cell_type": "code",
   "id": "initial_id",
   "metadata": {
    "collapsed": true,
    "jupyter": {
     "outputs_hidden": true
    },
    "ExecuteTime": {
     "end_time": "2024-09-28T14:23:49.204961Z",
     "start_time": "2024-09-28T14:23:32.313368Z"
    }
   },
   "source": [
    "import numpy as np\n",
    "\n",
    "X = np.array([[1, 2, 3], [4, 5, 6]])\n",
    "print(X.shape)\n",
    "w = np.zeros(X.shape[1])\n",
    "print(w)\n",
    "print(len(X))"
   ],
   "outputs": [
    {
     "name": "stdout",
     "output_type": "stream",
     "text": [
      "(2, 3)\n",
      "[0. 0. 0.]\n",
      "2\n"
     ]
    }
   ],
   "execution_count": 1
  },
  {
   "cell_type": "markdown",
   "id": "d568c50578324d07",
   "metadata": {},
   "source": []
  },
  {
   "cell_type": "markdown",
   "id": "fd49c33b0ceaf78e",
   "metadata": {},
   "source": [
    "PLA实现\n",
    "\t\n",
    "$$ \n",
    "f_{w,b} (x) = wx + b\n",
    "$$"
   ]
  },
  {
   "cell_type": "code",
   "id": "897dd44948c3101a",
   "metadata": {
    "ExecuteTime": {
     "end_time": "2024-09-12T13:17:12.221180Z",
     "start_time": "2024-09-12T13:17:12.194749Z"
    }
   },
   "source": [
    "import numpy as np\n",
    "\n",
    "# wx +b\n",
    "def pla(X, y):\n",
    "    #初始化权重系数\n",
    "    W = np.zeros(X.shape[1])\n",
    "    flag = False\n",
    "    while (flag == False):\n",
    "        flag = True\n",
    "        for index in range(len(X)):\n",
    "            x = X[index]\n",
    "            if np.dot(x * W, y[index])<=0:\n",
    "                #修正w系数\n",
    "                flag = False\n",
    "                W = W + y[index] * x\n",
    "    return W\n",
    "\n",
    "\n",
    "print(pla(np.array([[1, 8, 19], [2, 10, 19], [3, 10, 17]]),\n",
    "          np.array([[2, 0, 1], [4, 0, 0], [3, 0, 17]])\n",
    "          ))\n"
   ],
   "outputs": [
    {
     "name": "stdout",
     "output_type": "stream",
     "text": [
      "[ 2.  0. 19.]\n"
     ]
    }
   ],
   "execution_count": 26
  },
  {
   "cell_type": "markdown",
   "id": "c13a33b2967c9ffd",
   "metadata": {},
   "source": [
    "生成数据集"
   ]
  },
  {
   "cell_type": "code",
   "id": "e711f71c2da0a69d",
   "metadata": {
    "ExecuteTime": {
     "end_time": "2024-09-12T13:08:42.832231Z",
     "start_time": "2024-09-12T13:08:22.014539Z"
    }
   },
   "source": [
    "import numpy as np\n",
    "\n",
    "def generate_data_collect(W,start, end, size =10):\n",
    "    #np.random.seed(42)\n",
    "    # 随机生成 size=10个 元素,uniform为随机浮点数, randint为随机整数  [start, end) 输出样本为 size=(m,n,k), 则输出 m * n * k 个样本 10行2列\n",
    "    x = np.random.randint(start, end, (size, W.shape[0]))\n",
    "    # 矩阵x点乘W的符号 sign(x)函数 x>0返回1, x=0返回0  x<0返回-1\n",
    "    y = np.sign(x.dot(W))\n",
    "    return x,y\n",
    "\n",
    "start = -10\n",
    "# 坐标轴结束点\n",
    "end = 10\n",
    "# 目标权重系数\n",
    "W = np.array([5, 4])\n",
    "# 创建线性可分的训练数据集\n",
    "X, y = generate_data_collect(W, start, end)\n",
    "print(X,y)\n",
    "\n",
    "def createLine(W, min, max , size =100):\n",
    "    x0 = np.linspace(min, max, size)\n",
    "    # 行列式第二行为0\n",
    "    if W[1] == 0:\n",
    "        x1 = np.zeros(size)\n",
    "    else:\n",
    "        x1 = -W[0] * x0 /W[1]\n",
    "    return x0, x1    \n",
    "    "
   ],
   "outputs": [
    {
     "name": "stdout",
     "output_type": "stream",
     "text": [
      "[[ 4 -4]\n",
      " [ 1 -3]\n",
      " [ 4 -8]\n",
      " [ 3  6]\n",
      " [-7  7]\n",
      " [-3 -7]\n",
      " [-9 -5]\n",
      " [-1 -7]\n",
      " [ 7  1]\n",
      " [-9 -1]] [ 1 -1 -1  1 -1 -1 -1 -1  1 -1]\n"
     ]
    }
   ],
   "execution_count": 24
  },
  {
   "cell_type": "markdown",
   "id": "704e05669b88442c",
   "metadata": {},
   "source": "打印字体"
  },
  {
   "metadata": {},
   "cell_type": "code",
   "outputs": [],
   "execution_count": null,
   "source": "",
   "id": "52f44a2e217b290e"
  },
  {
   "metadata": {
    "ExecuteTime": {
     "end_time": "2024-09-28T15:22:21.040994Z",
     "start_time": "2024-09-28T15:22:19.333336Z"
    }
   },
   "cell_type": "code",
   "source": [
    "import matplotlib.font_manager as fm\n",
    "\n",
    "fonts = fm.findSystemFonts(fontpaths=None, fontext='ttf')\n",
    "print(fonts)"
   ],
   "id": "769cb0063e3b5758",
   "outputs": [
    {
     "name": "stdout",
     "output_type": "stream",
     "text": [
      "['C:\\\\Windows\\\\Fonts\\\\segoesc.ttf', 'C:\\\\ProgramData\\\\kingsoft\\\\office6\\\\omath\\\\DejaVuMathTeXGyre.ttf', 'C:\\\\Windows\\\\Fonts\\\\cambria.ttc', 'C:\\\\Windows\\\\Fonts\\\\georgia.ttf', 'C:\\\\Windows\\\\Fonts\\\\NirmalaS.ttf', 'C:\\\\Windows\\\\Fonts\\\\LeelUIsl.ttf', 'C:\\\\Windows\\\\Fonts\\\\SitkaB.ttc', 'C:\\\\Windows\\\\Fonts\\\\timesi.ttf', 'C:\\\\Windows\\\\Fonts\\\\ntailub.ttf', 'F:\\\\Rational\\\\Common\\\\java\\\\jre\\\\lib\\\\fonts\\\\LucidaBrightDemiBold.ttf', 'F:\\\\Rational\\\\Common\\\\java\\\\jre\\\\lib\\\\fonts\\\\LucidaSansRegular.ttf', 'C:\\\\Windows\\\\Fonts\\\\malgun.ttf', 'C:\\\\Windows\\\\Fonts\\\\segmdl2.ttf', 'C:\\\\Windows\\\\Fonts\\\\couri.ttf', 'C:\\\\Windows\\\\Fonts\\\\seguisli.ttf', 'C:\\\\Windows\\\\Fonts\\\\seguibl.ttf', 'C:\\\\Windows\\\\Fonts\\\\taileb.ttf', 'C:\\\\Windows\\\\Fonts\\\\arialbi.ttf', 'C:\\\\Windows\\\\Fonts\\\\Inkfree.ttf', 'C:\\\\Windows\\\\Fonts\\\\holomdl2.ttf', 'C:\\\\Windows\\\\Fonts\\\\times.ttf', 'C:\\\\Windows\\\\Fonts\\\\georgiaz.ttf', 'C:\\\\Windows\\\\Fonts\\\\msjh.ttc', 'C:\\\\Windows\\\\Fonts\\\\palab.ttf', 'C:\\\\Windows\\\\Fonts\\\\LeelawUI.ttf', 'C:\\\\Windows\\\\Fonts\\\\verdana.ttf', 'C:\\\\Windows\\\\Fonts\\\\msgothic.ttc', 'C:\\\\Windows\\\\Fonts\\\\simkai.ttf', 'F:\\\\Rational\\\\Common\\\\java\\\\jre\\\\lib\\\\fonts\\\\Thonb___.ttf', 'C:\\\\Windows\\\\Fonts\\\\Dengb.ttf', 'C:\\\\Windows\\\\Fonts\\\\segoepr.ttf', 'C:\\\\Windows\\\\Fonts\\\\trebucbi.ttf', 'C:\\\\Users\\\\yeman\\\\AppData\\\\Local\\\\Microsoft\\\\Windows\\\\Fonts\\\\DejaVuSerif.ttf', 'C:\\\\Windows\\\\Fonts\\\\verdanab.ttf', 'C:\\\\Windows\\\\Fonts\\\\SitkaI.ttc', 'C:\\\\Windows\\\\Fonts\\\\Deng.ttf', 'C:\\\\Windows\\\\Fonts\\\\DejaVuSansMono-BoldOblique_0.ttf', 'F:\\\\Rational\\\\Common\\\\java\\\\jre\\\\lib\\\\fonts\\\\LucidaTypewriterBold.ttf', 'C:\\\\Windows\\\\Fonts\\\\SitkaZ.ttc', 'C:\\\\Windows\\\\Fonts\\\\bahnschrift.ttf', 'C:\\\\Windows\\\\Fonts\\\\calibrib.ttf', 'C:\\\\Windows\\\\Fonts\\\\DejaVuSansMono-Bold_0.ttf', 'C:\\\\Windows\\\\Fonts\\\\monbaiti.ttf', 'C:\\\\Windows\\\\Fonts\\\\calibril.ttf', 'C:\\\\Windows\\\\Fonts\\\\arialbd.ttf', 'C:\\\\Windows\\\\Fonts\\\\corbelli.ttf', 'C:\\\\Windows\\\\Fonts\\\\corbeli.ttf', 'C:\\\\Windows\\\\Fonts\\\\segoeui.ttf', 'C:\\\\Windows\\\\Fonts\\\\l_10646.ttf', 'C:\\\\Windows\\\\Fonts\\\\ariali.ttf', 'C:\\\\Windows\\\\Fonts\\\\consolai.ttf', 'C:\\\\Windows\\\\Fonts\\\\simfang.ttf', 'C:\\\\Windows\\\\Fonts\\\\mingliub.ttc', 'C:\\\\Windows\\\\Fonts\\\\javatext.ttf', 'C:\\\\Windows\\\\Fonts\\\\LeelaUIb.ttf', 'C:\\\\Windows\\\\Fonts\\\\taile.ttf', 'F:\\\\Rational\\\\Common\\\\java\\\\jre\\\\lib\\\\fonts\\\\LucidaSansDemiOblique.ttf', 'C:\\\\Windows\\\\Fonts\\\\seguisbi.ttf', 'C:\\\\Windows\\\\Fonts\\\\calibriz.ttf', 'F:\\\\Rational\\\\Common\\\\java\\\\jre\\\\lib\\\\fonts\\\\Court___.ttf', 'C:\\\\Windows\\\\Fonts\\\\constan.ttf', 'C:\\\\Windows\\\\Fonts\\\\mvboli.ttf', 'F:\\\\Rational\\\\Common\\\\java\\\\jre\\\\lib\\\\fonts\\\\LucidaTypewriterOblique.ttf', 'C:\\\\Windows\\\\Fonts\\\\timesbd.ttf', 'C:\\\\Windows\\\\Fonts\\\\segoescb.ttf', 'C:\\\\Windows\\\\Fonts\\\\ebrimabd.ttf', 'C:\\\\Windows\\\\Fonts\\\\himalaya.ttf', 'C:\\\\Windows\\\\Fonts\\\\calibrili.ttf', 'C:\\\\Windows\\\\Fonts\\\\Candarali.ttf', 'C:\\\\Windows\\\\Fonts\\\\gadugi.ttf', 'C:\\\\Windows\\\\Fonts\\\\palabi.ttf', 'C:\\\\Windows\\\\Fonts\\\\trebucit.ttf', 'C:\\\\Windows\\\\Fonts\\\\seguiemj.ttf', 'C:\\\\Windows\\\\Fonts\\\\pala.ttf', 'C:\\\\Windows\\\\Fonts\\\\mmrtext.ttf', 'F:\\\\Rational\\\\Common\\\\java\\\\jre\\\\lib\\\\fonts\\\\Courtb__.ttf', 'C:\\\\Windows\\\\Fonts\\\\corbelz.ttf', 'C:\\\\Windows\\\\Fonts\\\\msyi.ttf', 'C:\\\\Windows\\\\Fonts\\\\framdit.ttf', 'C:\\\\Windows\\\\Fonts\\\\corbelb.ttf', 'C:\\\\Windows\\\\Fonts\\\\verdanai.ttf', 'C:\\\\Windows\\\\Fonts\\\\msjhbd.ttc', 'C:\\\\Windows\\\\Fonts\\\\Candara.ttf', 'C:\\\\Windows\\\\Fonts\\\\YuGothB.ttc', 'C:\\\\Windows\\\\Fonts\\\\consolaz.ttf', 'C:\\\\Windows\\\\Fonts\\\\constanb.ttf', 'C:\\\\Windows\\\\Fonts\\\\seguibli.ttf', 'C:\\\\Windows\\\\Fonts\\\\YuGothR.ttc', 'F:\\\\Rational\\\\Common\\\\java\\\\jre\\\\lib\\\\fonts\\\\LucidaBrightRegular.ttf', 'C:\\\\Windows\\\\Fonts\\\\ntailu.ttf', 'C:\\\\Windows\\\\Fonts\\\\comic.ttf', 'F:\\\\Rational\\\\Common\\\\java\\\\jre\\\\lib\\\\fonts\\\\Courtbi_.ttf', 'C:\\\\Windows\\\\Fonts\\\\seguihis.ttf', 'C:\\\\Windows\\\\Fonts\\\\Sitka.ttc', 'C:\\\\Windows\\\\Fonts\\\\sylfaen.ttf', 'C:\\\\Windows\\\\Fonts\\\\trebuc.ttf', 'C:\\\\Windows\\\\Fonts\\\\YuGothM.ttc', 'F:\\\\Rational\\\\Common\\\\java\\\\jre\\\\lib\\\\fonts\\\\LucidaTypewriterRegular.ttf', 'C:\\\\Windows\\\\Fonts\\\\mmrtextb.ttf', 'C:\\\\Windows\\\\Fonts\\\\impact.ttf', 'C:\\\\Windows\\\\Fonts\\\\consolab.ttf', 'C:\\\\Windows\\\\Fonts\\\\msyh.ttc', 'C:\\\\Windows\\\\Fonts\\\\comici.ttf', 'C:\\\\Windows\\\\Fonts\\\\micross.ttf', 'C:\\\\Windows\\\\Fonts\\\\corbel.ttf', 'C:\\\\Windows\\\\Fonts\\\\constanz.ttf', 'F:\\\\Rational\\\\Common\\\\java\\\\jre\\\\lib\\\\fonts\\\\Thonburi.ttf', 'C:\\\\Windows\\\\Fonts\\\\Gabriola.ttf', 'C:\\\\Windows\\\\Fonts\\\\segoeuii.ttf', 'C:\\\\Windows\\\\Fonts\\\\seguisb.ttf', 'C:\\\\Windows\\\\Fonts\\\\comicbd.ttf', 'C:\\\\Windows\\\\Fonts\\\\comicz.ttf', 'C:\\\\Windows\\\\Fonts\\\\webdings.ttf', 'C:\\\\Windows\\\\Fonts\\\\georgiab.ttf', 'C:\\\\Windows\\\\Fonts\\\\Nirmala.ttf', 'C:\\\\Windows\\\\Fonts\\\\simsun.ttc', 'C:\\\\Windows\\\\Fonts\\\\tahoma.ttf', 'C:\\\\Windows\\\\Fonts\\\\cambriai.ttf', 'C:\\\\Windows\\\\Fonts\\\\wingding.ttf', 'C:\\\\Windows\\\\Fonts\\\\ariblk.ttf', 'C:\\\\Windows\\\\Fonts\\\\cambriaz.ttf', 'F:\\\\Rational\\\\Common\\\\java\\\\jre\\\\lib\\\\fonts\\\\Thoni___.ttf', 'C:\\\\Windows\\\\Fonts\\\\phagspa.ttf', 'F:\\\\Rational\\\\Common\\\\java\\\\jre\\\\lib\\\\fonts\\\\Thonbi__.ttf', 'C:\\\\Windows\\\\Fonts\\\\segoeuiz.ttf', 'C:\\\\Windows\\\\Fonts\\\\segoeuib.ttf', 'C:\\\\Windows\\\\Fonts\\\\Candarai.ttf', 'C:\\\\Windows\\\\Fonts\\\\gadugib.ttf', 'C:\\\\Windows\\\\Fonts\\\\Candaral.ttf', 'C:\\\\Windows\\\\Fonts\\\\DejaVuSansMono_0.ttf', 'C:\\\\Windows\\\\Fonts\\\\Dengl.ttf', 'C:\\\\Windows\\\\Fonts\\\\cour.ttf', 'C:\\\\Windows\\\\Fonts\\\\corbell.ttf', 'F:\\\\Rational\\\\Common\\\\java\\\\jre\\\\lib\\\\fonts\\\\LucidaBrightItalic.ttf', 'C:\\\\Windows\\\\Fonts\\\\calibri.ttf', 'C:\\\\Windows\\\\Fonts\\\\msyhl.ttc', 'C:\\\\Windows\\\\Fonts\\\\verdanaz.ttf', 'C:\\\\Windows\\\\Fonts\\\\consola.ttf', 'C:\\\\Windows\\\\Fonts\\\\segoeuil.ttf', 'C:\\\\Windows\\\\Fonts\\\\DejaVuSansMono-Oblique_0.ttf', 'C:\\\\Windows\\\\Fonts\\\\courbi.ttf', 'C:\\\\Windows\\\\Fonts\\\\trebucbd.ttf', 'C:\\\\Windows\\\\Fonts\\\\Candarab.ttf', 'C:\\\\Windows\\\\Fonts\\\\courbd.ttf', 'C:\\\\Windows\\\\Fonts\\\\tahomabd.ttf', 'C:\\\\ProgramData\\\\kingsoft\\\\office6\\\\mtfont\\\\mtextra.ttf', 'C:\\\\Windows\\\\Fonts\\\\segoeprb.ttf', 'C:\\\\Windows\\\\Fonts\\\\arial.ttf', 'C:\\\\Windows\\\\Fonts\\\\ebrima.ttf', 'C:\\\\Windows\\\\Fonts\\\\lucon.ttf', 'C:\\\\Windows\\\\Fonts\\\\segoeuisl.ttf', 'C:\\\\Windows\\\\Fonts\\\\symbol.ttf', 'F:\\\\Rational\\\\Common\\\\java\\\\jre\\\\lib\\\\fonts\\\\LucidaSansDemiBold.ttf', 'C:\\\\Windows\\\\Fonts\\\\malgunbd.ttf', 'C:\\\\Windows\\\\Fonts\\\\simsunb.ttf', 'F:\\\\Rational\\\\Common\\\\java\\\\jre\\\\lib\\\\fonts\\\\LucidaSansOblique.ttf', 'C:\\\\Windows\\\\Fonts\\\\msjhl.ttc', 'F:\\\\Rational\\\\Common\\\\java\\\\jre\\\\lib\\\\fonts\\\\Courti__.ttf', 'C:\\\\Windows\\\\Fonts\\\\Candaraz.ttf', 'C:\\\\Windows\\\\Fonts\\\\timesbi.ttf', 'C:\\\\Windows\\\\Fonts\\\\YuGothL.ttc', 'C:\\\\Windows\\\\Fonts\\\\cambriab.ttf', 'F:\\\\Rational\\\\Common\\\\java\\\\jre\\\\lib\\\\fonts\\\\LucidaTypewriterBoldOblique.ttf', 'C:\\\\Windows\\\\Fonts\\\\seguisym.ttf', 'C:\\\\Windows\\\\Fonts\\\\constani.ttf', 'F:\\\\Rational\\\\Common\\\\java\\\\jre\\\\lib\\\\fonts\\\\LucidaBrightDemiItalic.ttf', 'C:\\\\Windows\\\\Fonts\\\\msyhbd.ttc', 'C:\\\\Windows\\\\Fonts\\\\palai.ttf', 'C:\\\\Windows\\\\Fonts\\\\framd.ttf', 'C:\\\\Windows\\\\Fonts\\\\simhei.ttf', 'C:\\\\Windows\\\\Fonts\\\\malgunsl.ttf', 'C:\\\\Windows\\\\Fonts\\\\seguili.ttf', 'C:\\\\Windows\\\\Fonts\\\\phagspab.ttf', 'C:\\\\Windows\\\\Fonts\\\\georgiai.ttf', 'C:\\\\Windows\\\\Fonts\\\\calibrii.ttf', 'C:\\\\Windows\\\\Fonts\\\\NirmalaB.ttf']\n"
     ]
    }
   ],
   "execution_count": 2
  }
 ],
 "metadata": {
  "kernelspec": {
   "display_name": "Python 3 (ipykernel)",
   "language": "python",
   "name": "python3"
  },
  "language_info": {
   "codemirror_mode": {
    "name": "ipython",
    "version": 3
   },
   "file_extension": ".py",
   "mimetype": "text/x-python",
   "name": "python",
   "nbconvert_exporter": "python",
   "pygments_lexer": "ipython3",
   "version": "3.12.4"
  }
 },
 "nbformat": 4,
 "nbformat_minor": 5
}
